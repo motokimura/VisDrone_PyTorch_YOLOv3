{
 "cells": [
  {
   "cell_type": "code",
   "execution_count": 1,
   "metadata": {},
   "outputs": [],
   "source": [
    "import os\n",
    "import numpy as np\n",
    "import pandas as pd\n",
    "from tqdm import tqdm\n",
    "\n",
    "import matplotlib.pyplot as plt\n",
    "%matplotlib inline"
   ]
  },
  {
   "cell_type": "code",
   "execution_count": 2,
   "metadata": {},
   "outputs": [],
   "source": [
    "def read_annotations(annotation_dir):\n",
    "    names = ['bbox_left', 'bbox_top', 'bbox_width', 'bbox_height', 'score', 'object_category', 'truncation', 'occlusion']\n",
    "    df = pd.DataFrame(columns=names)\n",
    "    \n",
    "    annotation_files = os.listdir(annotation_dir)\n",
    "    for filename in tqdm(annotation_files):\n",
    "        path = os.path.join(annotation_dir, filename)\n",
    "        df_tmp = pd.read_csv(path, names=names)\n",
    "        df = pd.concat([df, df_tmp])\n",
    "    \n",
    "    return df"
   ]
  },
  {
   "cell_type": "code",
   "execution_count": 3,
   "metadata": {},
   "outputs": [
    {
     "name": "stderr",
     "output_type": "stream",
     "text": [
      "100%|██████████| 12942/12942 [06:02<00:00, 35.72it/s]\n",
      "100%|██████████| 1094/1094 [00:11<00:00, 98.14it/s]\n"
     ]
    }
   ],
   "source": [
    "train_df = read_annotations(annotation_dir='data/VisDrone2018-DET-train/annotations')\n",
    "val_df = read_annotations(annotation_dir='data/VisDrone2018-DET-val/annotations')"
   ]
  },
  {
   "cell_type": "code",
   "execution_count": 4,
   "metadata": {},
   "outputs": [],
   "source": [
    "object_categories = [\n",
    "    'ignored regions', 'pedestrian', 'people', 'bicycle', 'car', 'van', 'truck', 'tricycle', 'awning-tricycle', 'bus', 'motor', 'others'\n",
    "]\n",
    "\n",
    "occlusion_levels = ['No occlusion', 'Partially occluded', 'Heavily occluded']\n",
    "\n",
    "\n",
    "def extract_category_distrib(df, object_categories):\n",
    "    category_counts = []\n",
    "    \n",
    "    for occlusion_level in range(len(occlusion_levels)):\n",
    "        category_counts_tmp = [0] * len(object_categories)\n",
    "        for idx in range(len(object_categories)):\n",
    "            category_counts_tmp[idx] = (((df['object_category'] == idx) & (df['occlusion'] == occlusion_level)).sum())\n",
    "        \n",
    "        category_counts.append(category_counts_tmp)\n",
    "    \n",
    "    return category_counts"
   ]
  },
  {
   "cell_type": "code",
   "execution_count": 5,
   "metadata": {},
   "outputs": [],
   "source": [
    "train_distrib = extract_category_distrib(train_df, object_categories)\n",
    "val_distrib = extract_category_distrib(val_df, object_categories)"
   ]
  },
  {
   "cell_type": "code",
   "execution_count": 6,
   "metadata": {},
   "outputs": [],
   "source": [
    "def stacked_bar_plot(x, y_stacked, labels, ax):\n",
    "    offset = [0] * len(y_stacked[0])\n",
    "    \n",
    "    for i in range(len(y_stacked)):\n",
    "        y = y_stacked[i]\n",
    "        label = labels[i]\n",
    "        ax.bar(x, y, bottom=offset, label=label)\n",
    "        offset = [(oi + yi) for (oi, yi) in zip(offset, y)]\n",
    "        \n",
    "    ax.legend()\n",
    "    ax.grid()\n",
    "    ax.set_xticklabels(x, rotation=90)"
   ]
  },
  {
   "cell_type": "code",
   "execution_count": 7,
   "metadata": {},
   "outputs": [
    {
     "data": {
      "image/png": "[encoded data removed]",
      "text/plain": [
       "<Figure size 1008x432 with 2 Axes>"
      ]
     },
     "metadata": {
      "needs_background": "light"
     },
     "output_type": "display_data"
    }
   ],
   "source": [
    "fig, (axL, axR) = plt.subplots(ncols=2, figsize=(14,6))\n",
    "\n",
    "stacked_bar_plot(object_categories, train_distrib, occlusion_levels, axL)\n",
    "stacked_bar_plot(object_categories, val_distrib, occlusion_levels, axR)"
   ]
  },
  {
   "cell_type": "code",
   "execution_count": 8,
   "metadata": {},
   "outputs": [
    {
     "data": {
      "text/html": [
       "<div>\n",
       "<style scoped>\n",
       "    .dataframe tbody tr th:only-of-type {\n",
       "        vertical-align: middle;\n",
       "    }\n",
       "\n",
       "    .dataframe tbody tr th {\n",
       "        vertical-align: top;\n",
       "    }\n",
       "\n",
       "    .dataframe thead th {\n",
       "        text-align: right;\n",
       "    }\n",
       "</style>\n",
       "<table border=\"1\" class=\"dataframe\">\n",
       "  <thead>\n",
       "    <tr style=\"text-align: right;\">\n",
       "      <th></th>\n",
       "      <th>ignored regions</th>\n",
       "      <th>pedestrian</th>\n",
       "      <th>people</th>\n",
       "      <th>bicycle</th>\n",
       "      <th>car</th>\n",
       "      <th>van</th>\n",
       "      <th>truck</th>\n",
       "      <th>tricycle</th>\n",
       "      <th>awning-tricycle</th>\n",
       "      <th>bus</th>\n",
       "      <th>motor</th>\n",
       "      <th>others</th>\n",
       "    </tr>\n",
       "  </thead>\n",
       "  <tbody>\n",
       "    <tr>\n",
       "      <th>No occlusion</th>\n",
       "      <td>8813</td>\n",
       "      <td>49870</td>\n",
       "      <td>7332</td>\n",
       "      <td>2969</td>\n",
       "      <td>72444</td>\n",
       "      <td>12155</td>\n",
       "      <td>6560</td>\n",
       "      <td>1727</td>\n",
       "      <td>1379</td>\n",
       "      <td>3033</td>\n",
       "      <td>9808</td>\n",
       "      <td>756</td>\n",
       "    </tr>\n",
       "    <tr>\n",
       "      <th>Partially occluded</th>\n",
       "      <td>0</td>\n",
       "      <td>24920</td>\n",
       "      <td>16787</td>\n",
       "      <td>6061</td>\n",
       "      <td>56982</td>\n",
       "      <td>10709</td>\n",
       "      <td>5315</td>\n",
       "      <td>2352</td>\n",
       "      <td>1372</td>\n",
       "      <td>2452</td>\n",
       "      <td>15292</td>\n",
       "      <td>624</td>\n",
       "    </tr>\n",
       "    <tr>\n",
       "      <th>Heavily occluded</th>\n",
       "      <td>0</td>\n",
       "      <td>4545</td>\n",
       "      <td>2940</td>\n",
       "      <td>1447</td>\n",
       "      <td>15439</td>\n",
       "      <td>2086</td>\n",
       "      <td>996</td>\n",
       "      <td>724</td>\n",
       "      <td>492</td>\n",
       "      <td>441</td>\n",
       "      <td>4542</td>\n",
       "      <td>152</td>\n",
       "    </tr>\n",
       "  </tbody>\n",
       "</table>\n",
       "</div>"
      ],
      "text/plain": [
       "                    ignored regions  pedestrian  people  bicycle    car  \\\n",
       "No occlusion                   8813       49870    7332     2969  72444   \n",
       "Partially occluded                0       24920   16787     6061  56982   \n",
       "Heavily occluded                  0        4545    2940     1447  15439   \n",
       "\n",
       "                      van  truck  tricycle  awning-tricycle   bus  motor  \\\n",
       "No occlusion        12155   6560      1727             1379  3033   9808   \n",
       "Partially occluded  10709   5315      2352             1372  2452  15292   \n",
       "Heavily occluded     2086    996       724              492   441   4542   \n",
       "\n",
       "                    others  \n",
       "No occlusion           756  \n",
       "Partially occluded     624  \n",
       "Heavily occluded       152  "
      ]
     },
     "execution_count": 8,
     "metadata": {},
     "output_type": "execute_result"
    }
   ],
   "source": [
    "train_df_2 = pd.DataFrame(train_distrib, columns=object_categories, index=occlusion_levels)\n",
    "train_df_2"
   ]
  },
  {
   "cell_type": "code",
   "execution_count": 9,
   "metadata": {},
   "outputs": [
    {
     "data": {
      "text/html": [
       "<div>\n",
       "<style scoped>\n",
       "    .dataframe tbody tr th:only-of-type {\n",
       "        vertical-align: middle;\n",
       "    }\n",
       "\n",
       "    .dataframe tbody tr th {\n",
       "        vertical-align: top;\n",
       "    }\n",
       "\n",
       "    .dataframe thead th {\n",
       "        text-align: right;\n",
       "    }\n",
       "</style>\n",
       "<table border=\"1\" class=\"dataframe\">\n",
       "  <thead>\n",
       "    <tr style=\"text-align: right;\">\n",
       "      <th></th>\n",
       "      <th>ignored regions</th>\n",
       "      <th>pedestrian</th>\n",
       "      <th>people</th>\n",
       "      <th>bicycle</th>\n",
       "      <th>car</th>\n",
       "      <th>van</th>\n",
       "      <th>truck</th>\n",
       "      <th>tricycle</th>\n",
       "      <th>awning-tricycle</th>\n",
       "      <th>bus</th>\n",
       "      <th>motor</th>\n",
       "      <th>others</th>\n",
       "    </tr>\n",
       "  </thead>\n",
       "  <tbody>\n",
       "    <tr>\n",
       "      <th>No occlusion</th>\n",
       "      <td>1378</td>\n",
       "      <td>5019</td>\n",
       "      <td>1318</td>\n",
       "      <td>346</td>\n",
       "      <td>6834</td>\n",
       "      <td>764</td>\n",
       "      <td>302</td>\n",
       "      <td>408</td>\n",
       "      <td>237</td>\n",
       "      <td>124</td>\n",
       "      <td>1458</td>\n",
       "      <td>17</td>\n",
       "    </tr>\n",
       "    <tr>\n",
       "      <th>Partially occluded</th>\n",
       "      <td>0</td>\n",
       "      <td>3378</td>\n",
       "      <td>3429</td>\n",
       "      <td>808</td>\n",
       "      <td>6016</td>\n",
       "      <td>1046</td>\n",
       "      <td>382</td>\n",
       "      <td>568</td>\n",
       "      <td>274</td>\n",
       "      <td>113</td>\n",
       "      <td>2849</td>\n",
       "      <td>15</td>\n",
       "    </tr>\n",
       "    <tr>\n",
       "      <th>Heavily occluded</th>\n",
       "      <td>0</td>\n",
       "      <td>447</td>\n",
       "      <td>378</td>\n",
       "      <td>133</td>\n",
       "      <td>1214</td>\n",
       "      <td>165</td>\n",
       "      <td>66</td>\n",
       "      <td>69</td>\n",
       "      <td>21</td>\n",
       "      <td>14</td>\n",
       "      <td>579</td>\n",
       "      <td>0</td>\n",
       "    </tr>\n",
       "  </tbody>\n",
       "</table>\n",
       "</div>"
      ],
      "text/plain": [
       "                    ignored regions  pedestrian  people  bicycle   car   van  \\\n",
       "No occlusion                   1378        5019    1318      346  6834   764   \n",
       "Partially occluded                0        3378    3429      808  6016  1046   \n",
       "Heavily occluded                  0         447     378      133  1214   165   \n",
       "\n",
       "                    truck  tricycle  awning-tricycle  bus  motor  others  \n",
       "No occlusion          302       408              237  124   1458      17  \n",
       "Partially occluded    382       568              274  113   2849      15  \n",
       "Heavily occluded       66        69               21   14    579       0  "
      ]
     },
     "execution_count": 9,
     "metadata": {},
     "output_type": "execute_result"
    }
   ],
   "source": [
    "val_df_2 = pd.DataFrame(val_distrib, columns=object_categories, index=occlusion_levels)\n",
    "val_df_2"
   ]
  },
  {
   "cell_type": "code",
   "execution_count": null,
   "metadata": {},
   "outputs": [],
   "source": []
  }
 ],
 "metadata": {
  "kernelspec": {
   "display_name": "Python 3",
   "language": "python",
   "name": "python3"
  },
  "language_info": {
   "codemirror_mode": {
    "name": "ipython",
    "version": 3
   },
   "file_extension": ".py",
   "mimetype": "text/x-python",
   "name": "python",
   "nbconvert_exporter": "python",
   "pygments_lexer": "ipython3",
   "version": "3.6.7"
  }
 },
 "nbformat": 4,
 "nbformat_minor": 2
}
